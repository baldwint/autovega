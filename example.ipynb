{
 "cells": [
  {
   "cell_type": "code",
   "execution_count": 1,
   "metadata": {
    "ExecuteTime": {
     "end_time": "2018-05-03T01:50:21.976278Z",
     "start_time": "2018-05-03T01:50:21.205445Z"
    }
   },
   "outputs": [],
   "source": [
    "import altair as alt\n",
    "alt.renderers.enable('notebook')"
   ]
  },
  {
   "cell_type": "markdown",
   "metadata": {},
   "source": [
    "Sample data:"
   ]
  },
  {
   "cell_type": "code",
   "execution_count": 2,
   "metadata": {
    "ExecuteTime": {
     "end_time": "2018-05-03T01:50:22.536322Z",
     "start_time": "2018-05-03T01:50:22.123707Z"
    }
   },
   "outputs": [
    {
     "data": {
      "text/html": [
       "<div>\n",
       "<style scoped>\n",
       "    .dataframe tbody tr th:only-of-type {\n",
       "        vertical-align: middle;\n",
       "    }\n",
       "\n",
       "    .dataframe tbody tr th {\n",
       "        vertical-align: top;\n",
       "    }\n",
       "\n",
       "    .dataframe thead th {\n",
       "        text-align: right;\n",
       "    }\n",
       "</style>\n",
       "<table border=\"1\" class=\"dataframe\">\n",
       "  <thead>\n",
       "    <tr style=\"text-align: right;\">\n",
       "      <th></th>\n",
       "      <th>date</th>\n",
       "      <th>var</th>\n",
       "      <th>temp</th>\n",
       "    </tr>\n",
       "  </thead>\n",
       "  <tbody>\n",
       "    <tr>\n",
       "      <th>0</th>\n",
       "      <td>2010-01-03</td>\n",
       "      <td>min</td>\n",
       "      <td>38.6</td>\n",
       "    </tr>\n",
       "    <tr>\n",
       "      <th>1</th>\n",
       "      <td>2010-01-10</td>\n",
       "      <td>min</td>\n",
       "      <td>39.2</td>\n",
       "    </tr>\n",
       "    <tr>\n",
       "      <th>2</th>\n",
       "      <td>2010-01-17</td>\n",
       "      <td>min</td>\n",
       "      <td>39.5</td>\n",
       "    </tr>\n",
       "    <tr>\n",
       "      <th>3</th>\n",
       "      <td>2010-01-24</td>\n",
       "      <td>min</td>\n",
       "      <td>39.6</td>\n",
       "    </tr>\n",
       "    <tr>\n",
       "      <th>4</th>\n",
       "      <td>2010-01-31</td>\n",
       "      <td>min</td>\n",
       "      <td>39.2</td>\n",
       "    </tr>\n",
       "  </tbody>\n",
       "</table>\n",
       "</div>"
      ],
      "text/plain": [
       "        date  var  temp\n",
       "0 2010-01-03  min  38.6\n",
       "1 2010-01-10  min  39.2\n",
       "2 2010-01-17  min  39.5\n",
       "3 2010-01-24  min  39.6\n",
       "4 2010-01-31  min  39.2"
      ]
     },
     "execution_count": 2,
     "metadata": {},
     "output_type": "execute_result"
    }
   ],
   "source": [
    "import vega_datasets\n",
    "seattle_temps = vega_datasets.data.seattle_temps()\n",
    "\n",
    "seattle_temp_extrema = (seattle_temps\n",
    "                        .set_index('date')\n",
    "                        .resample('W')\n",
    "                        .apply(['min', 'max', 'mean'])\n",
    "                        .temp\n",
    "                        .reset_index()\n",
    "                        .melt(id_vars='date', var_name='var', value_name='temp')\n",
    "                       )\n",
    "seattle_temp_extrema.head()"
   ]
  },
  {
   "cell_type": "markdown",
   "metadata": {},
   "source": [
    "To visualize dataframes like this, Altair is very concise:"
   ]
  },
  {
   "cell_type": "code",
   "execution_count": 3,
   "metadata": {
    "ExecuteTime": {
     "end_time": "2018-05-03T01:50:44.956917Z",
     "start_time": "2018-05-03T01:50:44.932728Z"
    }
   },
   "outputs": [
    {
     "data": {
      "text/html": [
       "<div class=\"vega-embed\" id=\"b1c697cd-29a3-43c7-87d1-41ef05b9f3da\"></div>\n",
       "\n",
       "<style>\n",
       ".vega-embed .vega-actions > a {\n",
       "    transition: opacity 200ms ease-in;\n",
       "    opacity: 0.3;\n",
       "    margin-right: 0.6em;\n",
       "    color: #444;\n",
       "    text-decoration: none;\n",
       "}\n",
       "\n",
       ".vega-embed .vega-actions > a:hover {\n",
       "    color: #000;\n",
       "    text-decoration: underline;\n",
       "}\n",
       "\n",
       ".vega-embed:hover .vega-actions > a {\n",
       "    opacity: 1;\n",
       "    transition: 0s;\n",
       "}\n",
       "\n",
       ".vega-embed .error p {\n",
       "    color: firebrick;\n",
       "    font-size: 1.2em;\n",
       "}\n",
       "</style>\n"
      ]
     },
     "metadata": {
      "jupyter-vega3": "#b1c697cd-29a3-43c7-87d1-41ef05b9f3da"
     },
     "output_type": "display_data"
    },
    {
     "data": {
      "application/javascript": [
       "var spec = {\"config\": {\"view\": {\"width\": 400, \"height\": 300}}, \"data\": {\"values\": [{\"date\": \"2010-01-03\", \"var\": \"min\", \"temp\": 38.6}, {\"date\": \"2010-01-10\", \"var\": \"min\", \"temp\": 39.2}, {\"date\": \"2010-01-17\", \"var\": \"min\", \"temp\": 39.5}, {\"date\": \"2010-01-24\", \"var\": \"min\", \"temp\": 39.6}, {\"date\": \"2010-01-31\", \"var\": \"min\", \"temp\": 39.2}, {\"date\": \"2010-02-07\", \"var\": \"min\", \"temp\": 38.9}, {\"date\": \"2010-02-14\", \"var\": \"min\", \"temp\": 38.9}, {\"date\": \"2010-02-21\", \"var\": \"min\", \"temp\": 39.5}, {\"date\": \"2010-02-28\", \"var\": \"min\", \"temp\": 39.8}, {\"date\": \"2010-03-07\", \"var\": \"min\", \"temp\": 40.1}, {\"date\": \"2010-03-14\", \"var\": \"min\", \"temp\": 41.1}, {\"date\": \"2010-03-21\", \"var\": \"min\", \"temp\": 41.4}, {\"date\": \"2010-03-28\", \"var\": \"min\", \"temp\": 41.3}, {\"date\": \"2010-04-04\", \"var\": \"min\", \"temp\": 41.6}, {\"date\": \"2010-04-11\", \"var\": \"min\", \"temp\": 42.5}, {\"date\": \"2010-04-18\", \"var\": \"min\", \"temp\": 43.6}, {\"date\": \"2010-04-25\", \"var\": \"min\", \"temp\": 44.3}, {\"date\": \"2010-05-02\", \"var\": \"min\", \"temp\": 45.4}, {\"date\": \"2010-05-09\", \"var\": \"min\", \"temp\": 46.3}, {\"date\": \"2010-05-16\", \"var\": \"min\", \"temp\": 47.3}, {\"date\": \"2010-05-23\", \"var\": \"min\", \"temp\": 48.7}, {\"date\": \"2010-05-30\", \"var\": \"min\", \"temp\": 50.3}, {\"date\": \"2010-06-06\", \"var\": \"min\", \"temp\": 51.7}, {\"date\": \"2010-06-13\", \"var\": \"min\", \"temp\": 52.1}, {\"date\": \"2010-06-20\", \"var\": \"min\", \"temp\": 52.6}, {\"date\": \"2010-06-27\", \"var\": \"min\", \"temp\": 53.8}, {\"date\": \"2010-07-04\", \"var\": \"min\", \"temp\": 54.8}, {\"date\": \"2010-07-11\", \"var\": \"min\", \"temp\": 55.5}, {\"date\": \"2010-07-18\", \"var\": \"min\", \"temp\": 56.1}, {\"date\": \"2010-07-25\", \"var\": \"min\", \"temp\": 57.1}, {\"date\": \"2010-08-01\", \"var\": \"min\", \"temp\": 57.3}, {\"date\": \"2010-08-08\", \"var\": \"min\", \"temp\": 57.4}, {\"date\": \"2010-08-15\", \"var\": \"min\", \"temp\": 57.3}, {\"date\": \"2010-08-22\", \"var\": \"min\", \"temp\": 56.8}, {\"date\": \"2010-08-29\", \"var\": \"min\", \"temp\": 56.4}, {\"date\": \"2010-09-05\", \"var\": \"min\", \"temp\": 55.3}, {\"date\": \"2010-09-12\", \"var\": \"min\", \"temp\": 54.1}, {\"date\": \"2010-09-19\", \"var\": \"min\", \"temp\": 53.0}, {\"date\": \"2010-09-26\", \"var\": \"min\", \"temp\": 52.0}, {\"date\": \"2010-10-03\", \"var\": \"min\", \"temp\": 50.9}, {\"date\": \"2010-10-10\", \"var\": \"min\", \"temp\": 49.2}, {\"date\": \"2010-10-17\", \"var\": \"min\", \"temp\": 47.9}, {\"date\": \"2010-10-24\", \"var\": \"min\", \"temp\": 46.8}, {\"date\": \"2010-10-31\", \"var\": \"min\", \"temp\": 45.3}, {\"date\": \"2010-11-07\", \"var\": \"min\", \"temp\": 44.6}, {\"date\": \"2010-11-14\", \"var\": \"min\", \"temp\": 43.7}, {\"date\": \"2010-11-21\", \"var\": \"min\", \"temp\": 41.3}, {\"date\": \"2010-11-28\", \"var\": \"min\", \"temp\": 39.9}, {\"date\": \"2010-12-05\", \"var\": \"min\", \"temp\": 39.7}, {\"date\": \"2010-12-12\", \"var\": \"min\", \"temp\": 39.0}, {\"date\": \"2010-12-19\", \"var\": \"min\", \"temp\": 38.0}, {\"date\": \"2010-12-26\", \"var\": \"min\", \"temp\": 37.5}, {\"date\": \"2011-01-02\", \"var\": \"min\", \"temp\": 37.9}, {\"date\": \"2010-01-03\", \"var\": \"max\", \"temp\": 44.0}, {\"date\": \"2010-01-10\", \"var\": \"max\", \"temp\": 44.7}, {\"date\": \"2010-01-17\", \"var\": \"max\", \"temp\": 45.3}, {\"date\": \"2010-01-24\", \"var\": \"max\", \"temp\": 45.7}, {\"date\": \"2010-01-31\", \"var\": \"max\", \"temp\": 46.2}, {\"date\": \"2010-02-07\", \"var\": \"max\", \"temp\": 47.0}, {\"date\": \"2010-02-14\", \"var\": \"max\", \"temp\": 47.7}, {\"date\": \"2010-02-21\", \"var\": \"max\", \"temp\": 48.6}, {\"date\": \"2010-02-28\", \"var\": \"max\", \"temp\": 49.6}, {\"date\": \"2010-03-07\", \"var\": \"max\", \"temp\": 50.7}, {\"date\": \"2010-03-14\", \"var\": \"max\", \"temp\": 51.8}, {\"date\": \"2010-03-21\", \"var\": \"max\", \"temp\": 52.1}, {\"date\": \"2010-03-28\", \"var\": \"max\", \"temp\": 52.7}, {\"date\": \"2010-04-04\", \"var\": \"max\", \"temp\": 53.8}, {\"date\": \"2010-04-11\", \"var\": \"max\", \"temp\": 55.3}, {\"date\": \"2010-04-18\", \"var\": \"max\", \"temp\": 56.6}, {\"date\": \"2010-04-25\", \"var\": \"max\", \"temp\": 58.0}, {\"date\": \"2010-05-02\", \"var\": \"max\", \"temp\": 59.0}, {\"date\": \"2010-05-09\", \"var\": \"max\", \"temp\": 60.5}, {\"date\": \"2010-05-16\", \"var\": \"max\", \"temp\": 62.2}, {\"date\": \"2010-05-23\", \"var\": \"max\", \"temp\": 64.2}, {\"date\": \"2010-05-30\", \"var\": \"max\", \"temp\": 65.5}, {\"date\": \"2010-06-06\", \"var\": \"max\", \"temp\": 65.5}, {\"date\": \"2010-06-13\", \"var\": \"max\", \"temp\": 66.2}, {\"date\": \"2010-06-20\", \"var\": \"max\", \"temp\": 68.8}, {\"date\": \"2010-06-27\", \"var\": \"max\", \"temp\": 70.4}, {\"date\": \"2010-07-04\", \"var\": \"max\", \"temp\": 71.4}, {\"date\": \"2010-07-11\", \"var\": \"max\", \"temp\": 72.8}, {\"date\": \"2010-07-18\", \"var\": \"max\", \"temp\": 74.7}, {\"date\": \"2010-07-25\", \"var\": \"max\", \"temp\": 75.7}, {\"date\": \"2010-08-01\", \"var\": \"max\", \"temp\": 75.9}, {\"date\": \"2010-08-08\", \"var\": \"max\", \"temp\": 75.6}, {\"date\": \"2010-08-15\", \"var\": \"max\", \"temp\": 75.4}, {\"date\": \"2010-08-22\", \"var\": \"max\", \"temp\": 74.6}, {\"date\": \"2010-08-29\", \"var\": \"max\", \"temp\": 73.4}, {\"date\": \"2010-09-05\", \"var\": \"max\", \"temp\": 72.3}, {\"date\": \"2010-09-12\", \"var\": \"max\", \"temp\": 70.8}, {\"date\": \"2010-09-19\", \"var\": \"max\", \"temp\": 68.5}, {\"date\": \"2010-09-26\", \"var\": \"max\", \"temp\": 67.3}, {\"date\": \"2010-10-03\", \"var\": \"max\", \"temp\": 65.5}, {\"date\": \"2010-10-10\", \"var\": \"max\", \"temp\": 62.6}, {\"date\": \"2010-10-17\", \"var\": \"max\", \"temp\": 59.3}, {\"date\": \"2010-10-24\", \"var\": \"max\", \"temp\": 57.3}, {\"date\": \"2010-10-31\", \"var\": \"max\", \"temp\": 54.7}, {\"date\": \"2010-11-07\", \"var\": \"max\", \"temp\": 52.4}, {\"date\": \"2010-11-14\", \"var\": \"max\", \"temp\": 51.2}, {\"date\": \"2010-11-21\", \"var\": \"max\", \"temp\": 49.0}, {\"date\": \"2010-11-28\", \"var\": \"max\", \"temp\": 46.6}, {\"date\": \"2010-12-05\", \"var\": \"max\", \"temp\": 45.3}, {\"date\": \"2010-12-12\", \"var\": \"max\", \"temp\": 44.9}, {\"date\": \"2010-12-19\", \"var\": \"max\", \"temp\": 43.6}, {\"date\": \"2010-12-26\", \"var\": \"max\", \"temp\": 42.7}, {\"date\": \"2011-01-02\", \"var\": \"max\", \"temp\": 43.3}, {\"date\": \"2010-01-03\", \"var\": \"mean\", \"temp\": 40.669444444444444}, {\"date\": \"2010-01-10\", \"var\": \"mean\", \"temp\": 41.39761904761905}, {\"date\": \"2010-01-17\", \"var\": \"mean\", \"temp\": 41.78214285714286}, {\"date\": \"2010-01-24\", \"var\": \"mean\", \"temp\": 41.92440476190476}, {\"date\": \"2010-01-31\", \"var\": \"mean\", \"temp\": 42.15535714285711}, {\"date\": \"2010-02-07\", \"var\": \"mean\", \"temp\": 42.22499999999998}, {\"date\": \"2010-02-14\", \"var\": \"mean\", \"temp\": 42.616071428571416}, {\"date\": \"2010-02-21\", \"var\": \"mean\", \"temp\": 43.22857142857143}, {\"date\": \"2010-02-28\", \"var\": \"mean\", \"temp\": 43.914285714285704}, {\"date\": \"2010-03-07\", \"var\": \"mean\", \"temp\": 44.866666666666646}, {\"date\": \"2010-03-14\", \"var\": \"mean\", \"temp\": 45.724550898203596}, {\"date\": \"2010-03-21\", \"var\": \"mean\", \"temp\": 46.23988095238095}, {\"date\": \"2010-03-28\", \"var\": \"mean\", \"temp\": 46.522619047619045}, {\"date\": \"2010-04-04\", \"var\": \"mean\", \"temp\": 47.090476190476195}, {\"date\": \"2010-04-11\", \"var\": \"mean\", \"temp\": 48.31130952380953}, {\"date\": \"2010-04-18\", \"var\": \"mean\", \"temp\": 49.67142857142859}, {\"date\": \"2010-04-25\", \"var\": \"mean\", \"temp\": 50.853571428571406}, {\"date\": \"2010-05-02\", \"var\": \"mean\", \"temp\": 51.87023809523808}, {\"date\": \"2010-05-09\", \"var\": \"mean\", \"temp\": 52.93392857142856}, {\"date\": \"2010-05-16\", \"var\": \"mean\", \"temp\": 54.35357142857141}, {\"date\": \"2010-05-23\", \"var\": \"mean\", \"temp\": 56.236904761904746}, {\"date\": \"2010-05-30\", \"var\": \"mean\", \"temp\": 57.71369047619049}, {\"date\": \"2010-06-06\", \"var\": \"mean\", \"temp\": 58.31726190476192}, {\"date\": \"2010-06-13\", \"var\": \"mean\", \"temp\": 58.70416666666665}, {\"date\": \"2010-06-20\", \"var\": \"mean\", \"temp\": 60.037499999999994}, {\"date\": \"2010-06-27\", \"var\": \"mean\", \"temp\": 61.724999999999994}, {\"date\": \"2010-07-04\", \"var\": \"mean\", \"temp\": 62.6952380952381}, {\"date\": \"2010-07-11\", \"var\": \"mean\", \"temp\": 63.61488095238099}, {\"date\": \"2010-07-18\", \"var\": \"mean\", \"temp\": 65.0791666666667}, {\"date\": \"2010-07-25\", \"var\": \"mean\", \"temp\": 66.03452380952383}, {\"date\": \"2010-08-01\", \"var\": \"mean\", \"temp\": 66.10357142857144}, {\"date\": \"2010-08-08\", \"var\": \"mean\", \"temp\": 65.91547619047616}, {\"date\": \"2010-08-15\", \"var\": \"mean\", \"temp\": 65.78035714285717}, {\"date\": \"2010-08-22\", \"var\": \"mean\", \"temp\": 65.01845238095237}, {\"date\": \"2010-08-29\", \"var\": \"mean\", \"temp\": 64.1392857142857}, {\"date\": \"2010-09-05\", \"var\": \"mean\", \"temp\": 63.03035714285711}, {\"date\": \"2010-09-12\", \"var\": \"mean\", \"temp\": 61.58690476190478}, {\"date\": \"2010-09-19\", \"var\": \"mean\", \"temp\": 60.07500000000003}, {\"date\": \"2010-09-26\", \"var\": \"mean\", \"temp\": 58.72023809523809}, {\"date\": \"2010-10-03\", \"var\": \"mean\", \"temp\": 56.92083333333335}, {\"date\": \"2010-10-10\", \"var\": \"mean\", \"temp\": 54.5517857142857}, {\"date\": \"2010-10-17\", \"var\": \"mean\", \"temp\": 52.58630952380955}, {\"date\": \"2010-10-24\", \"var\": \"mean\", \"temp\": 50.907142857142865}, {\"date\": \"2010-10-31\", \"var\": \"mean\", \"temp\": 49.13154761904761}, {\"date\": \"2010-11-07\", \"var\": \"mean\", \"temp\": 47.730952380952395}, {\"date\": \"2010-11-14\", \"var\": \"mean\", \"temp\": 46.73690476190478}, {\"date\": \"2010-11-21\", \"var\": \"mean\", \"temp\": 44.55357142857142}, {\"date\": \"2010-11-28\", \"var\": \"mean\", \"temp\": 42.616666666666674}, {\"date\": \"2010-12-05\", \"var\": \"mean\", \"temp\": 41.85357142857141}, {\"date\": \"2010-12-12\", \"var\": \"mean\", \"temp\": 41.382142857142846}, {\"date\": \"2010-12-19\", \"var\": \"mean\", \"temp\": 40.22440476190478}, {\"date\": \"2010-12-26\", \"var\": \"mean\", \"temp\": 39.461309523809526}, {\"date\": \"2011-01-02\", \"var\": \"mean\", \"temp\": 39.978333333333325}]}, \"mark\": \"line\", \"encoding\": {\"color\": {\"type\": \"nominal\", \"field\": \"var\"}, \"x\": {\"type\": \"temporal\", \"field\": \"date\"}, \"y\": {\"type\": \"quantitative\", \"field\": \"temp\"}}, \"$schema\": \"https://vega.github.io/schema/vega-lite/v2.3.0.json\"};\n",
       "var opt = {};\n",
       "var selector = \"#b1c697cd-29a3-43c7-87d1-41ef05b9f3da\";\n",
       "var type = \"vega-lite\";\n",
       "\n",
       "var output_area = this;\n",
       "\n",
       "require(['nbextensions/jupyter-vega3/index'], function(vega) {\n",
       "  vega.render(selector, spec, type, opt, output_area);\n",
       "}, function (err) {\n",
       "  if (err.requireType !== 'scripterror') {\n",
       "    throw(err);\n",
       "  }\n",
       "});\n"
      ]
     },
     "metadata": {
      "jupyter-vega3": "#b1c697cd-29a3-43c7-87d1-41ef05b9f3da"
     },
     "output_type": "display_data"
    },
    {
     "data": {
      "text/plain": []
     },
     "execution_count": 3,
     "metadata": {},
     "output_type": "execute_result"
    },
    {
     "data": {
      "image/png": "[encoded data removed]"
     },
     "metadata": {
      "jupyter-vega3": "#b1c697cd-29a3-43c7-87d1-41ef05b9f3da"
     },
     "output_type": "display_data"
    }
   ],
   "source": [
    "alt.Chart(seattle_temp_extrema).mark_line().encode(x='date', y='temp', color='var')"
   ]
  },
  {
   "cell_type": "markdown",
   "metadata": {},
   "source": [
    "When working in the notebook, I find myself frequently copy-pasting this cell around, modifying the encoding, mark type, and the name of the dataframe."
   ]
  },
  {
   "cell_type": "markdown",
   "metadata": {},
   "source": [
    "`autovega` is a helper tool that speeds up simple plotting workflows like this using Jupyter widgets."
   ]
  },
  {
   "cell_type": "code",
   "execution_count": 4,
   "metadata": {
    "ExecuteTime": {
     "end_time": "2018-05-03T01:51:31.603081Z",
     "start_time": "2018-05-03T01:51:31.597369Z"
    }
   },
   "outputs": [],
   "source": [
    "import autovega"
   ]
  },
  {
   "cell_type": "markdown",
   "metadata": {},
   "source": [
    "Wrap the `display_dataframe` function around a dataframe to render a GUI for choosing one of several plot types and encodings:"
   ]
  },
  {
   "cell_type": "code",
   "execution_count": 5,
   "metadata": {
    "ExecuteTime": {
     "end_time": "2018-05-02T22:42:02.671317Z",
     "start_time": "2018-05-02T22:42:02.580596Z"
    }
   },
   "outputs": [
    {
     "data": {
      "application/vnd.jupyter.widget-view+json": {
       "model_id": "02c9fe535c9b4e1dabed212eb36c0506",
       "version_major": 2,
       "version_minor": 0
      },
      "text/plain": [
       "AutoVega(children=(ToggleButtons(options=('Table', 'Scatter', 'Line', 'Bar'), value='Table'), Output()))"
      ]
     },
     "metadata": {},
     "output_type": "display_data"
    }
   ],
   "source": [
    "autovega.display_dataframe(seattle_temp_extrema)"
   ]
  },
  {
   "cell_type": "markdown",
   "metadata": {},
   "source": [
    "To make this the default behavior, call `register_renderer`. Then autovega wil be the default display formatter for all Pandas dataframes."
   ]
  },
  {
   "cell_type": "code",
   "execution_count": 6,
   "metadata": {
    "ExecuteTime": {
     "end_time": "2018-05-03T01:51:31.603081Z",
     "start_time": "2018-05-03T01:51:31.597369Z"
    }
   },
   "outputs": [],
   "source": [
    "autovega.register_renderer()"
   ]
  },
  {
   "cell_type": "code",
   "execution_count": 7,
   "metadata": {
    "ExecuteTime": {
     "end_time": "2018-05-03T01:51:42.266614Z",
     "start_time": "2018-05-03T01:51:42.174001Z"
    }
   },
   "outputs": [
    {
     "data": {
      "application/vnd.jupyter.widget-view+json": {
       "model_id": "3f5f63faee3b4b17b145247aace10874",
       "version_major": 2,
       "version_minor": 0
      },
      "text/plain": [
       "AutoVega(children=(ToggleButtons(options=('Table', 'Scatter', 'Line', 'Bar'), value='Table'), Output()))"
      ]
     },
     "metadata": {},
     "output_type": "display_data"
    }
   ],
   "source": [
    "seattle_temp_extrema"
   ]
  },
  {
   "cell_type": "code",
   "execution_count": null,
   "metadata": {},
   "outputs": [],
   "source": []
  }
 ],
 "metadata": {
  "kernelspec": {
   "display_name": "Python 3",
   "language": "python",
   "name": "python3"
  },
  "language_info": {
   "codemirror_mode": {
    "name": "ipython",
    "version": 3
   },
   "file_extension": ".py",
   "mimetype": "text/x-python",
   "name": "python",
   "nbconvert_exporter": "python",
   "pygments_lexer": "ipython3",
   "version": "3.6.1"
  }
 },
 "nbformat": 4,
 "nbformat_minor": 2
}
